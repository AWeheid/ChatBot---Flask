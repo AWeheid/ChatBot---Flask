{
 "cells": [
  {
   "cell_type": "code",
   "execution_count": 1,
   "metadata": {},
   "outputs": [],
   "source": [
    "import nltk\n",
    "import numpy as np\n",
    "import io\n",
    "import string\n",
    "import warnings\n",
    "from sklearn.feature_extraction.text import TfidfVectorizer\n",
    "from sklearn.metrics.pairwise import cosine_similarity\n",
    "import re"
   ]
  },
  {
   "cell_type": "code",
   "execution_count": 2,
   "metadata": {},
   "outputs": [
    {
     "name": "stderr",
     "output_type": "stream",
     "text": [
      "[nltk_data] Downloading package punkt to\n",
      "[nltk_data]     C:\\Users\\FatimaAlamr\\AppData\\Roaming\\nltk_data...\n",
      "[nltk_data]   Package punkt is already up-to-date!\n",
      "[nltk_data] Downloading package wordnet to\n",
      "[nltk_data]     C:\\Users\\FatimaAlamr\\AppData\\Roaming\\nltk_data...\n",
      "[nltk_data]   Package wordnet is already up-to-date!\n"
     ]
    },
    {
     "data": {
      "text/plain": [
       "True"
      ]
     },
     "execution_count": 2,
     "metadata": {},
     "output_type": "execute_result"
    }
   ],
   "source": [
    "warnings.filterwarnings('ignore')\n",
    "nltk.download('punkt')\n",
    "nltk.download('wordnet')"
   ]
  },
  {
   "cell_type": "code",
   "execution_count": 3,
   "metadata": {},
   "outputs": [],
   "source": [
    "f = open(\"info.txt\",\"r\", errors='ignore')\n",
    "\n",
    "text = f.read()\n",
    "#text = text.lower()\n",
    "#text = text.strip('\\n\\t[]<>/</br>See COVID-19')\n",
    "#text = text.replace('.,','')\n",
    "#text = text.replace('Additional information on how COVID-19 is spread is available at How COVID-19 Spreads Related: Talking to Children','')\n",
    "#text = text.replace(':,','')\n",
    "#text = text.replace(' , ','')\n",
    "#text = text.replace('[','')\n",
    "#text = text.replace(']','')\n",
    "#text = re.sub('<[^<]+?>', '', text)"
   ]
  },
  {
   "cell_type": "code",
   "execution_count": 4,
   "metadata": {},
   "outputs": [],
   "source": [
    "sent_tokens = nltk.sent_tokenize(text)\n",
    "word_tokens = nltk.word_tokenize(text)\n",
    "\n",
    "#print(str(word_tokens) +' -----'+ str(sent_tokens))\n",
    "lemmer = nltk.WordNetLemmatizer()"
   ]
  },
  {
   "cell_type": "code",
   "execution_count": 5,
   "metadata": {},
   "outputs": [],
   "source": [
    "def LemTokens(tokens):\n",
    "    return [lemmer.lemmatize(token) for token in tokens]\n",
    "remove_punct_dict = dict((ord(punct), None) for punct in string.punctuation)\n",
    "\n",
    "def LemNormalize(txt):\n",
    "    return LemTokens(nltk.word_tokenize(txt.lower().translate(remove_punct_dict)))"
   ]
  },
  {
   "cell_type": "code",
   "execution_count": 6,
   "metadata": {},
   "outputs": [
    {
     "name": "stdout",
     "output_type": "stream",
     "text": [
      "Requirement already satisfied: chatbase in c:\\users\\fatimaalamr\\anaconda3\\lib\\site-packages (0.2.1)\n",
      "Requirement already satisfied: requests in c:\\users\\fatimaalamr\\anaconda3\\lib\\site-packages (from chatbase) (2.22.0)\n",
      "Requirement already satisfied: idna<2.9,>=2.5 in c:\\users\\fatimaalamr\\anaconda3\\lib\\site-packages (from requests->chatbase) (2.8)\n",
      "Requirement already satisfied: chardet<3.1.0,>=3.0.2 in c:\\users\\fatimaalamr\\anaconda3\\lib\\site-packages (from requests->chatbase) (3.0.4)\n",
      "Requirement already satisfied: certifi>=2017.4.17 in c:\\users\\fatimaalamr\\anaconda3\\lib\\site-packages (from requests->chatbase) (2019.11.28)\n",
      "Requirement already satisfied: urllib3!=1.25.0,!=1.25.1,<1.26,>=1.21.1 in c:\\users\\fatimaalamr\\anaconda3\\lib\\site-packages (from requests->chatbase) (1.25.8)\n",
      "Note: you may need to restart the kernel to use updated packages.\n"
     ]
    }
   ],
   "source": [
    "pip install chatbase"
   ]
  },
  {
   "cell_type": "code",
   "execution_count": 7,
   "metadata": {},
   "outputs": [
    {
     "name": "stdout",
     "output_type": "stream",
     "text": [
      "Collecting git+git://github.com/google/chatbase-python.git\n",
      "  Cloning git://github.com/google/chatbase-python.git to c:\\users\\fatima~1\\appdata\\local\\temp\\pip-req-build-f2imyyqk\n",
      "Requirement already satisfied (use --upgrade to upgrade): chatbase==0.2.1 from git+git://github.com/google/chatbase-python.git in c:\\users\\fatimaalamr\\anaconda3\\lib\\site-packages\n",
      "Requirement already satisfied: requests in c:\\users\\fatimaalamr\\anaconda3\\lib\\site-packages (from chatbase==0.2.1) (2.22.0)\n",
      "Requirement already satisfied: idna<2.9,>=2.5 in c:\\users\\fatimaalamr\\anaconda3\\lib\\site-packages (from requests->chatbase==0.2.1) (2.8)\n",
      "Requirement already satisfied: certifi>=2017.4.17 in c:\\users\\fatimaalamr\\anaconda3\\lib\\site-packages (from requests->chatbase==0.2.1) (2019.11.28)\n",
      "Requirement already satisfied: chardet<3.1.0,>=3.0.2 in c:\\users\\fatimaalamr\\anaconda3\\lib\\site-packages (from requests->chatbase==0.2.1) (3.0.4)\n",
      "Requirement already satisfied: urllib3!=1.25.0,!=1.25.1,<1.26,>=1.21.1 in c:\\users\\fatimaalamr\\anaconda3\\lib\\site-packages (from requests->chatbase==0.2.1) (1.25.8)\n",
      "Building wheels for collected packages: chatbase\n",
      "  Building wheel for chatbase (setup.py): started\n",
      "  Building wheel for chatbase (setup.py): finished with status 'done'\n",
      "  Created wheel for chatbase: filename=chatbase-0.2.1-py3-none-any.whl size=11456 sha256=39dfd9793076d09db5687be77a6cedc9f83e5bd48fa821d71bcbf3fb02e22a98\n",
      "  Stored in directory: C:\\Users\\FATIMA~1\\AppData\\Local\\Temp\\pip-ephem-wheel-cache-9fs2d2cx\\wheels\\3f\\06\\34\\43486ddf420a5a62a5d72f2fe019ddcd07c450cede896daaec\n",
      "Successfully built chatbase\n",
      "Note: you may need to restart the kernel to use updated packages.\n"
     ]
    },
    {
     "name": "stderr",
     "output_type": "stream",
     "text": [
      "  Running command git clone -q git://github.com/google/chatbase-python.git 'C:\\Users\\FATIMA~1\\AppData\\Local\\Temp\\pip-req-build-f2imyyqk'\n"
     ]
    }
   ],
   "source": [
    "pip install git+git://github.com/google/chatbase-python.git"
   ]
  },
  {
   "cell_type": "code",
   "execution_count": 8,
   "metadata": {},
   "outputs": [
    {
     "name": "stdout",
     "output_type": "stream",
     "text": [
      "covid19 vaccine\n",
      "chatbot: There is currently no vaccine to protect against COVID-19.\n",
      "masks\n",
      "chatbot: Gather the sides of the mask on the elastic and adjust so the mask fits your face.\n",
      "garlic\n",
      "chatbot: Sorry, cannot understand your query\n",
      "bye\n",
      "bye\n"
     ]
    }
   ],
   "source": [
    "from chatbase import Message\n",
    "\n",
    "def response(user_response):\n",
    "    chatbot_response = ''\n",
    "    sent_tokens.append(user_response)\n",
    "    TfidfVec = TfidfVectorizer(tokenizer=LemNormalize, stop_words='english')\n",
    "    tfidf = TfidfVec.fit_transform(sent_tokens)\n",
    "    vals = cosine_similarity(tfidf[-1],tfidf)\n",
    "    idx = vals.argsort()[0][-2]\n",
    "    flat = vals.flatten()\n",
    "    flat.sort()\n",
    "    req = flat[-2]\n",
    "\n",
    "    if(req==0):\n",
    "        chatbot_response = chatbot_response + 'Sorry, cannot understand your query'\n",
    "\n",
    "        msg = Message(api_key=\"6f6aa25c-e467-49f7-9799-67efb413b829\",\n",
    "                  platform=\"web\",\n",
    "                  version=\"0.1\",\n",
    "                  user_id=\"unique-str\",\n",
    "                  message=chatbot_response,\n",
    "                  intent=\"test\")\n",
    "        resp = msg.send()\n",
    "        return chatbot_response\n",
    "        \n",
    "    else:\n",
    "        chatbot_response = chatbot_response+sent_tokens[idx]\n",
    "        #print(sent_tokens)\n",
    "    \n",
    "        msg = Message(api_key=\"6f6aa25c-e467-49f7-9799-67efb413b829\",\n",
    "                  platform=\"web\",\n",
    "                  version=\"0.1\",\n",
    "                  user_id=\"unique-str\",\n",
    "                  message=chatbot_response,\n",
    "                  intent=\"test\")\n",
    "        resp = msg.send()\n",
    "        return chatbot_response\n",
    "\n",
    "flag = True\n",
    "important_words = ['vaccine', 'old people', 'cat', 'pet', 'animal', 'zoo', 'sun', 'weather', 'surface'\n",
    "                 'cloth', 'sneeze', 'sneezing','coughing','cough', 'distance', 'sick'\n",
    "                ,'illness', 'ill', 'clean','protect', 'symptoms', 'spread',]\n",
    "\n",
    "while(flag):\n",
    "    user_response = input()\n",
    "    user_response = user_response.lower()\n",
    "    #user_response = user_response.replace('virus' , '')\n",
    "    #user_response = user_response.replace('covid-19' , '')\n",
    "    for word in range(len(important_words)):\n",
    "        #print('----------------'+important_words[word]+''+str(user_response.find(important_words[word])))\n",
    "        if  1==0:#important_words[word] in user_response:\n",
    "            user_response = important_words[word]\n",
    "            \n",
    "    #user_response = user_response.lower()\n",
    "    \n",
    "            msg = Message(api_key=\"6f6aa25c-e467-49f7-9799-67efb413b829\",\n",
    "                  platform=\"web\",\n",
    "                  version=\"0.1\",\n",
    "                  user_id=\"unique-str\",\n",
    "                  message=user_response,\n",
    "                  intent=\"test\")\n",
    "            resp = msg.send()\n",
    "            break\n",
    "            \n",
    "    if(user_response!= \"bye\"):\n",
    "        print('chatbot: ', end='' )\n",
    "        print(response(user_response))\n",
    "        sent_tokens.remove(user_response)\n",
    "    else:\n",
    "        flag = False\n",
    "        print('bye')"
   ]
  },
  {
   "cell_type": "code",
   "execution_count": null,
   "metadata": {},
   "outputs": [],
   "source": [
    "pip install chatbase"
   ]
  },
  {
   "cell_type": "code",
   "execution_count": null,
   "metadata": {},
   "outputs": [],
   "source": []
  }
 ],
 "metadata": {
  "kernelspec": {
   "display_name": "Python 3",
   "language": "python",
   "name": "python3"
  },
  "language_info": {
   "codemirror_mode": {
    "name": "ipython",
    "version": 3
   },
   "file_extension": ".py",
   "mimetype": "text/x-python",
   "name": "python",
   "nbconvert_exporter": "python",
   "pygments_lexer": "ipython3",
   "version": "3.7.6"
  }
 },
 "nbformat": 4,
 "nbformat_minor": 4
}
